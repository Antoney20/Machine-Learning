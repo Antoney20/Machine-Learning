{
 "cells": [
  {
   "cell_type": "code",
   "execution_count": 1,
   "id": "68183b24",
   "metadata": {},
   "outputs": [],
   "source": [
    "#IMPORTING THE NECESSARY LIBRARIES.\n",
    "import pandas as pd\n",
    "from sklearn.model_selection import train_test_split\n",
    "from sklearn.linear_model import LinearRegression\n",
    "from sklearn.metrics import mean_squared_error, r2_score\n"
   ]
  },
  {
   "cell_type": "markdown",
   "id": "bdb71b6b",
   "metadata": {},
   "source": [
    "NOW WE LOAD THE DATASET."
   ]
  },
  {
   "cell_type": "code",
   "execution_count": 5,
   "id": "d1ff4339",
   "metadata": {},
   "outputs": [
    {
     "data": {
      "text/html": [
       "<div>\n",
       "<style scoped>\n",
       "    .dataframe tbody tr th:only-of-type {\n",
       "        vertical-align: middle;\n",
       "    }\n",
       "\n",
       "    .dataframe tbody tr th {\n",
       "        vertical-align: top;\n",
       "    }\n",
       "\n",
       "    .dataframe thead th {\n",
       "        text-align: right;\n",
       "    }\n",
       "</style>\n",
       "<table border=\"1\" class=\"dataframe\">\n",
       "  <thead>\n",
       "    <tr style=\"text-align: right;\">\n",
       "      <th></th>\n",
       "      <th>preg</th>\n",
       "      <th>plas</th>\n",
       "      <th>pres</th>\n",
       "      <th>skin</th>\n",
       "      <th>insu</th>\n",
       "      <th>mass</th>\n",
       "      <th>pedi</th>\n",
       "      <th>age</th>\n",
       "      <th>tested_negative</th>\n",
       "    </tr>\n",
       "  </thead>\n",
       "  <tbody>\n",
       "    <tr>\n",
       "      <th>0</th>\n",
       "      <td>6</td>\n",
       "      <td>148</td>\n",
       "      <td>72</td>\n",
       "      <td>35</td>\n",
       "      <td>0</td>\n",
       "      <td>33.6</td>\n",
       "      <td>0.627</td>\n",
       "      <td>50</td>\n",
       "      <td>0</td>\n",
       "    </tr>\n",
       "    <tr>\n",
       "      <th>1</th>\n",
       "      <td>1</td>\n",
       "      <td>85</td>\n",
       "      <td>66</td>\n",
       "      <td>29</td>\n",
       "      <td>0</td>\n",
       "      <td>26.6</td>\n",
       "      <td>0.351</td>\n",
       "      <td>31</td>\n",
       "      <td>1</td>\n",
       "    </tr>\n",
       "    <tr>\n",
       "      <th>2</th>\n",
       "      <td>8</td>\n",
       "      <td>183</td>\n",
       "      <td>64</td>\n",
       "      <td>0</td>\n",
       "      <td>0</td>\n",
       "      <td>23.3</td>\n",
       "      <td>0.672</td>\n",
       "      <td>32</td>\n",
       "      <td>0</td>\n",
       "    </tr>\n",
       "    <tr>\n",
       "      <th>3</th>\n",
       "      <td>1</td>\n",
       "      <td>89</td>\n",
       "      <td>66</td>\n",
       "      <td>23</td>\n",
       "      <td>94</td>\n",
       "      <td>28.1</td>\n",
       "      <td>0.167</td>\n",
       "      <td>21</td>\n",
       "      <td>1</td>\n",
       "    </tr>\n",
       "  </tbody>\n",
       "</table>\n",
       "</div>"
      ],
      "text/plain": [
       "   preg  plas  pres  skin  insu  mass   pedi  age  tested_negative\n",
       "0     6   148    72    35     0  33.6  0.627   50                0\n",
       "1     1    85    66    29     0  26.6  0.351   31                1\n",
       "2     8   183    64     0     0  23.3  0.672   32                0\n",
       "3     1    89    66    23    94  28.1  0.167   21                1"
      ]
     },
     "execution_count": 5,
     "metadata": {},
     "output_type": "execute_result"
    }
   ],
   "source": [
    "data = pd.read_csv('diabetes2 .csv')\n",
    "#PRINT FIRST FILE ROWS\n",
    "data.head(4)"
   ]
  },
  {
   "cell_type": "code",
   "execution_count": 6,
   "id": "00b6807a",
   "metadata": {},
   "outputs": [
    {
     "name": "stdout",
     "output_type": "stream",
     "text": [
      "Index(['preg', 'plas', 'pres', 'skin', 'insu', 'mass', 'pedi', 'age',\n",
      "       'tested_negative'],\n",
      "      dtype='object')\n"
     ]
    }
   ],
   "source": [
    "# PRINTING THE COLUMNS\n",
    "print(data.columns)"
   ]
  },
  {
   "cell_type": "markdown",
   "id": "d14280f7",
   "metadata": {},
   "source": [
    "NOW WE SPLIT OUR DATA INTO TWO. THE TRAINING DATASET AND THE TESTING DATASET.\n"
   ]
  },
  {
   "cell_type": "code",
   "execution_count": 7,
   "id": "0b29e040",
   "metadata": {},
   "outputs": [],
   "source": [
    "X = data.drop('tested_negative', axis=1)\n",
    "y = data['tested_negative']  \n",
    "X_train, X_test, y_train, y_test = train_test_split(X, y, test_size=0.3, random_state=42)"
   ]
  },
  {
   "cell_type": "code",
   "execution_count": 8,
   "id": "125be604",
   "metadata": {},
   "outputs": [
    {
     "data": {
      "text/plain": [
       "LinearRegression()"
      ]
     },
     "execution_count": 8,
     "metadata": {},
     "output_type": "execute_result"
    }
   ],
   "source": [
    "# NOW CREATING LINEARS  model.\n",
    "model = LinearRegression()\n",
    "model.fit(X_train, y_train)"
   ]
  },
  {
   "cell_type": "markdown",
   "id": "6f60905e",
   "metadata": {},
   "source": [
    " Make predictions on the testing data and evaluate the model"
   ]
  },
  {
   "cell_type": "markdown",
   "id": "20418388",
   "metadata": {},
   "source": []
  },
  {
   "cell_type": "code",
   "execution_count": 9,
   "id": "bf9b1fa8",
   "metadata": {},
   "outputs": [
    {
     "name": "stdout",
     "output_type": "stream",
     "text": [
      "[ 0.66576097  0.75703811  0.83160029  0.77870815  0.49944989  0.53346741\n",
      "  1.18973797  0.4393705   0.46502838  0.27773636  0.69511361  0.14012839\n",
      "  0.57301666  0.65939306  0.9330006   0.60738638  0.82688873  0.92974252\n",
      "  0.21439057  0.46105349  0.70826617  0.91172455  0.52590024  0.87896913\n",
      "  0.47799162  0.17718003  0.84259479  1.05206084  0.6799714   0.83493456\n",
      "  0.15574689  0.18029392  0.2754734   0.2710332   0.42449428  0.38646176\n",
      "  0.00561037  0.70770633  0.50061868  0.36797933  0.94105101  0.43936091\n",
      "  0.46757925  0.63397571  1.06565458  0.48885626  0.43719742  0.73666525\n",
      "  0.60330273 -0.01672022  1.00066386  0.38968593  0.24611268  0.68279168\n",
      "  0.83618242  1.032868    0.27729698  1.36457018  0.58750506  0.30254429\n",
      "  0.34857867  0.62042528  0.66846858  0.71619655  0.9041689   0.44657787\n",
      "  1.00080645  0.31701736  1.02514208  0.29450373  0.36734667  0.93083904\n",
      "  0.74499099  0.83902062  0.87613233  0.49577364  0.75917813  0.82956936\n",
      "  0.80228072  0.68127532  0.39332976  0.81280764  0.96126943  0.57688087\n",
      "  0.68245065  0.2073921   0.16866076  0.63698594  0.83716313  0.89616566\n",
      "  0.94727042  0.69260358  1.4132627   0.50384372  0.50659969  0.4284194\n",
      "  0.605384    0.84211938  0.3862909   0.90331215  0.34186956  0.95652786\n",
      "  0.30748413  0.48509009  0.40685707  0.70396837  0.68576474  0.33627364\n",
      "  0.85562904  0.52517118  0.89075886  0.59723844  1.16297506  0.30330965\n",
      "  0.75092091  0.64316621  0.34333048  0.71482639  0.94937308  0.48879719\n",
      "  0.95056562  0.68840062  0.71306713  0.93875201  0.65508037  0.55727637\n",
      "  1.04419779  0.21191129 -0.01125588  0.33401645  0.36193601  0.22246878\n",
      "  0.88287389  0.55086294  0.25785951  0.82898077  0.77157127  0.19384789\n",
      "  0.27589953  1.21634143  0.88177701  1.01870725  0.70576292  0.54260898\n",
      "  0.8233744   0.6845364   0.84184699  1.13971853  0.57345554  0.30300388\n",
      "  0.8806664   0.51956483  0.66096793  0.77402604  1.34738498  0.56099275\n",
      "  0.6386547   0.38263403  0.31837815  0.79121422  0.50930939  0.39530454\n",
      "  0.75436951  1.16789844  0.83781635  0.20383579  0.99273105  0.64173447\n",
      "  0.27980537  0.48926925  0.41985812  0.76790141  0.61199743  0.34980894\n",
      "  0.40625227  0.88679494  0.64386006  0.6757235   0.70814349  0.63410283\n",
      "  0.47698111  0.45323271  0.58244534  0.32701075  0.43058903  0.88669245\n",
      "  1.00861951  0.83343608  0.20793152  0.59503597  0.9490148   0.88748688\n",
      "  0.18895131  0.68250597  0.90931862  0.9716296   1.3766459   0.93845942\n",
      "  0.70633241  0.3738007   0.81308957  0.84503961  0.60727582  0.67306264\n",
      "  0.38582941  0.88416072  0.87136446  0.68977774  0.14433331  0.42165237\n",
      "  0.66521291  0.73008322  0.80346183  0.83510834  0.33911773  0.88473557\n",
      "  0.2813123   0.65947884  0.61162595  0.18942151  0.43779125  0.85558718\n",
      "  0.91377614  0.77459852  0.93454316  0.34104376  0.63348548  0.6810614\n",
      "  0.65523185  0.7422132   0.86067881]\n",
      "Mean squared error: 0.18\n",
      "R-squared: 0.22\n"
     ]
    }
   ],
   "source": [
    "# Make predictions on the testing data and evaluate the model using mean squared error and R-squared\n",
    "y_pred = model.predict(X_test)\n",
    "mse = mean_squared_error(y_test, y_pred)\n",
    "r2 = r2_score(y_test, y_pred)\n",
    "print(y_pred)\n",
    "print('Mean squared error: {:.2f}'.format(mse))\n",
    "print('R-squared: {:.2f}'.format(r2))"
   ]
  },
  {
   "cell_type": "markdown",
   "id": "4cafcfcc",
   "metadata": {},
   "source": [
    "A lower Mean Square Error indicates better performance of the model.\n",
    "The model has a moderate level of accuracy in predicting the target variable.\n",
    "\n",
    "An R2 score of 0 means that the model cannot explain any of the variability in the target variable, while an R2 score of 1 means that the model can explain all of the variability in the target variable. \n",
    "The R2 score of 0.22 suggests that the model can explain only 22% of the variability in the target variable."
   ]
  }
 ],
 "metadata": {
  "kernelspec": {
   "display_name": "Python 3 (ipykernel)",
   "language": "python",
   "name": "python3"
  },
  "language_info": {
   "codemirror_mode": {
    "name": "ipython",
    "version": 3
   },
   "file_extension": ".py",
   "mimetype": "text/x-python",
   "name": "python",
   "nbconvert_exporter": "python",
   "pygments_lexer": "ipython3",
   "version": "3.9.12"
  }
 },
 "nbformat": 4,
 "nbformat_minor": 5
}
